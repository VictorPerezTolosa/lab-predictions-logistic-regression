{
 "cells": [
  {
   "cell_type": "markdown",
   "id": "88e2a464",
   "metadata": {},
   "source": [
    "# In order to optimize our inventory, we would like to know which films will be rented next month and we are asked to create a model to predict it."
   ]
  },
  {
   "cell_type": "markdown",
   "id": "dcc84282",
   "metadata": {},
   "source": [
    "## Instructions:\n",
    "\n",
    "* **1. Create a query or queries to extract the information you think may be relevant for building the prediction model. It should include some film features and some rental features.**"
   ]
  },
  {
   "cell_type": "markdown",
   "id": "dbb521ff",
   "metadata": {},
   "source": [
    ">Done in the SQL file"
   ]
  },
  {
   "cell_type": "markdown",
   "id": "22b62197",
   "metadata": {},
   "source": [
    "* **2. Read the data into a Pandas dataframe.**"
   ]
  },
  {
   "cell_type": "code",
   "execution_count": 1,
   "id": "e051ae7c",
   "metadata": {},
   "outputs": [],
   "source": [
    "import pandas as pd\n",
    "import matplotlib.pyplot as plt\n",
    "import mysql.connector\n",
    "from mysql.connector import connect\n",
    "from getpass import getpass\n",
    "from sklearn.model_selection import train_test_split\n",
    "from sklearn.preprocessing import LabelEncoder, StandardScaler\n",
    "from sklearn.compose import ColumnTransformer\n",
    "from sklearn.linear_model import LogisticRegression\n",
    "from sklearn.metrics import ConfusionMatrixDisplay, classification_report\n",
    "\n",
    "import warnings\n",
    "warnings.filterwarnings('ignore')"
   ]
  },
  {
   "cell_type": "code",
   "execution_count": 2,
   "id": "6fce3fc1",
   "metadata": {},
   "outputs": [
    {
     "name": "stdout",
     "output_type": "stream",
     "text": [
      "Enter password: ········\n"
     ]
    }
   ],
   "source": [
    "db = connect(\n",
    "        host= \"localhost\",\n",
    "        user = \"root\",\n",
    "        passwd = getpass(\"Enter password: \"),\n",
    "        database= \"sakila\"\n",
    "   )"
   ]
  },
  {
   "cell_type": "code",
   "execution_count": 3,
   "id": "8a3ebdde",
   "metadata": {},
   "outputs": [
    {
     "data": {
      "text/html": [
       "<div>\n",
       "<style scoped>\n",
       "    .dataframe tbody tr th:only-of-type {\n",
       "        vertical-align: middle;\n",
       "    }\n",
       "\n",
       "    .dataframe tbody tr th {\n",
       "        vertical-align: top;\n",
       "    }\n",
       "\n",
       "    .dataframe thead th {\n",
       "        text-align: right;\n",
       "    }\n",
       "</style>\n",
       "<table border=\"1\" class=\"dataframe\">\n",
       "  <thead>\n",
       "    <tr style=\"text-align: right;\">\n",
       "      <th></th>\n",
       "      <th>title</th>\n",
       "      <th>inventory_id</th>\n",
       "      <th>rental_rate</th>\n",
       "      <th>length</th>\n",
       "      <th>rental_date</th>\n",
       "      <th>return_date</th>\n",
       "    </tr>\n",
       "  </thead>\n",
       "  <tbody>\n",
       "    <tr>\n",
       "      <th>0</th>\n",
       "      <td>BLANKET BEVERLY</td>\n",
       "      <td>367</td>\n",
       "      <td>2.99</td>\n",
       "      <td>148</td>\n",
       "      <td>2005-05-24 22:53:30</td>\n",
       "      <td>2005-05-26 22:04:30</td>\n",
       "    </tr>\n",
       "    <tr>\n",
       "      <th>1</th>\n",
       "      <td>FREAKY POCUS</td>\n",
       "      <td>1525</td>\n",
       "      <td>2.99</td>\n",
       "      <td>126</td>\n",
       "      <td>2005-05-24 22:54:33</td>\n",
       "      <td>2005-05-28 19:40:33</td>\n",
       "    </tr>\n",
       "    <tr>\n",
       "      <th>2</th>\n",
       "      <td>GRADUATE LORD</td>\n",
       "      <td>1711</td>\n",
       "      <td>2.99</td>\n",
       "      <td>156</td>\n",
       "      <td>2005-05-24 23:03:39</td>\n",
       "      <td>2005-06-01 22:12:39</td>\n",
       "    </tr>\n",
       "    <tr>\n",
       "      <th>3</th>\n",
       "      <td>LOVE SUICIDES</td>\n",
       "      <td>2452</td>\n",
       "      <td>0.99</td>\n",
       "      <td>181</td>\n",
       "      <td>2005-05-24 23:04:41</td>\n",
       "      <td>2005-06-03 01:43:41</td>\n",
       "    </tr>\n",
       "    <tr>\n",
       "      <th>4</th>\n",
       "      <td>IDOLS SNATCHERS</td>\n",
       "      <td>2079</td>\n",
       "      <td>2.99</td>\n",
       "      <td>84</td>\n",
       "      <td>2005-05-24 23:05:21</td>\n",
       "      <td>2005-06-02 04:33:21</td>\n",
       "    </tr>\n",
       "    <tr>\n",
       "      <th>...</th>\n",
       "      <td>...</td>\n",
       "      <td>...</td>\n",
       "      <td>...</td>\n",
       "      <td>...</td>\n",
       "      <td>...</td>\n",
       "      <td>...</td>\n",
       "    </tr>\n",
       "    <tr>\n",
       "      <th>16040</th>\n",
       "      <td>ENOUGH RAGING</td>\n",
       "      <td>1295</td>\n",
       "      <td>2.99</td>\n",
       "      <td>158</td>\n",
       "      <td>2006-02-14 15:16:03</td>\n",
       "      <td>NaT</td>\n",
       "    </tr>\n",
       "    <tr>\n",
       "      <th>16041</th>\n",
       "      <td>FALCON VOLUME</td>\n",
       "      <td>1358</td>\n",
       "      <td>4.99</td>\n",
       "      <td>102</td>\n",
       "      <td>2006-02-14 15:16:03</td>\n",
       "      <td>NaT</td>\n",
       "    </tr>\n",
       "    <tr>\n",
       "      <th>16042</th>\n",
       "      <td>FAMILY SWEET</td>\n",
       "      <td>1367</td>\n",
       "      <td>0.99</td>\n",
       "      <td>155</td>\n",
       "      <td>2006-02-14 15:16:03</td>\n",
       "      <td>NaT</td>\n",
       "    </tr>\n",
       "    <tr>\n",
       "      <th>16043</th>\n",
       "      <td>FAMILY SWEET</td>\n",
       "      <td>1369</td>\n",
       "      <td>0.99</td>\n",
       "      <td>155</td>\n",
       "      <td>2006-02-14 15:16:03</td>\n",
       "      <td>NaT</td>\n",
       "    </tr>\n",
       "    <tr>\n",
       "      <th>16044</th>\n",
       "      <td>ACADEMY DINOSAUR</td>\n",
       "      <td>4</td>\n",
       "      <td>0.99</td>\n",
       "      <td>86</td>\n",
       "      <td>2022-08-30 02:25:41</td>\n",
       "      <td>NaT</td>\n",
       "    </tr>\n",
       "  </tbody>\n",
       "</table>\n",
       "<p>16045 rows × 6 columns</p>\n",
       "</div>"
      ],
      "text/plain": [
       "                  title  inventory_id  rental_rate  length  \\\n",
       "0       BLANKET BEVERLY           367         2.99     148   \n",
       "1          FREAKY POCUS          1525         2.99     126   \n",
       "2         GRADUATE LORD          1711         2.99     156   \n",
       "3         LOVE SUICIDES          2452         0.99     181   \n",
       "4       IDOLS SNATCHERS          2079         2.99      84   \n",
       "...                 ...           ...          ...     ...   \n",
       "16040     ENOUGH RAGING          1295         2.99     158   \n",
       "16041     FALCON VOLUME          1358         4.99     102   \n",
       "16042      FAMILY SWEET          1367         0.99     155   \n",
       "16043      FAMILY SWEET          1369         0.99     155   \n",
       "16044  ACADEMY DINOSAUR             4         0.99      86   \n",
       "\n",
       "              rental_date         return_date  \n",
       "0     2005-05-24 22:53:30 2005-05-26 22:04:30  \n",
       "1     2005-05-24 22:54:33 2005-05-28 19:40:33  \n",
       "2     2005-05-24 23:03:39 2005-06-01 22:12:39  \n",
       "3     2005-05-24 23:04:41 2005-06-03 01:43:41  \n",
       "4     2005-05-24 23:05:21 2005-06-02 04:33:21  \n",
       "...                   ...                 ...  \n",
       "16040 2006-02-14 15:16:03                 NaT  \n",
       "16041 2006-02-14 15:16:03                 NaT  \n",
       "16042 2006-02-14 15:16:03                 NaT  \n",
       "16043 2006-02-14 15:16:03                 NaT  \n",
       "16044 2022-08-30 02:25:41                 NaT  \n",
       "\n",
       "[16045 rows x 6 columns]"
      ]
     },
     "execution_count": 3,
     "metadata": {},
     "output_type": "execute_result"
    }
   ],
   "source": [
    "# Get the dataframe from SQL with useful information\n",
    "\n",
    "query = \"select title, i.inventory_id, rental_rate, length, rental_date, return_date from rental r join inventory i on r.inventory_id = i.inventory_id join film f on f.film_id = i.film_id order by rental_date\" \n",
    "\n",
    "df = pd.read_sql_query(query,db)\n",
    "df"
   ]
  },
  {
   "cell_type": "markdown",
   "id": "57bb260d",
   "metadata": {},
   "source": [
    "* **3. Analyze extracted features and transform them. You may need to encode some categorical variables, or scale numerical variables.**"
   ]
  },
  {
   "cell_type": "code",
   "execution_count": 4,
   "id": "1df791a0",
   "metadata": {
    "scrolled": true
   },
   "outputs": [
    {
     "name": "stdout",
     "output_type": "stream",
     "text": [
      "<class 'pandas.core.frame.DataFrame'>\n",
      "RangeIndex: 16045 entries, 0 to 16044\n",
      "Data columns (total 6 columns):\n",
      " #   Column        Non-Null Count  Dtype         \n",
      "---  ------        --------------  -----         \n",
      " 0   title         16045 non-null  object        \n",
      " 1   inventory_id  16045 non-null  int64         \n",
      " 2   rental_rate   16045 non-null  float64       \n",
      " 3   length        16045 non-null  int64         \n",
      " 4   rental_date   16045 non-null  datetime64[ns]\n",
      " 5   return_date   15861 non-null  datetime64[ns]\n",
      "dtypes: datetime64[ns](2), float64(1), int64(2), object(1)\n",
      "memory usage: 752.2+ KB\n"
     ]
    }
   ],
   "source": [
    "df.info()"
   ]
  },
  {
   "cell_type": "code",
   "execution_count": 5,
   "id": "bbed10f2",
   "metadata": {},
   "outputs": [
    {
     "data": {
      "text/plain": [
       "title           0.000000\n",
       "inventory_id    0.000000\n",
       "rental_rate     0.000000\n",
       "length          0.000000\n",
       "rental_date     0.000000\n",
       "return_date     0.011468\n",
       "dtype: float64"
      ]
     },
     "execution_count": 5,
     "metadata": {},
     "output_type": "execute_result"
    }
   ],
   "source": [
    "df.isna().sum()/len(df.return_date)"
   ]
  },
  {
   "cell_type": "code",
   "execution_count": 6,
   "id": "25e42733",
   "metadata": {},
   "outputs": [
    {
     "data": {
      "text/html": [
       "<div>\n",
       "<style scoped>\n",
       "    .dataframe tbody tr th:only-of-type {\n",
       "        vertical-align: middle;\n",
       "    }\n",
       "\n",
       "    .dataframe tbody tr th {\n",
       "        vertical-align: top;\n",
       "    }\n",
       "\n",
       "    .dataframe thead th {\n",
       "        text-align: right;\n",
       "    }\n",
       "</style>\n",
       "<table border=\"1\" class=\"dataframe\">\n",
       "  <thead>\n",
       "    <tr style=\"text-align: right;\">\n",
       "      <th></th>\n",
       "      <th>title</th>\n",
       "      <th>inventory_id</th>\n",
       "      <th>rental_rate</th>\n",
       "      <th>length</th>\n",
       "      <th>rental_date</th>\n",
       "      <th>return_date</th>\n",
       "    </tr>\n",
       "  </thead>\n",
       "  <tbody>\n",
       "    <tr>\n",
       "      <th>13987</th>\n",
       "      <td>ACADEMY DINOSAUR</td>\n",
       "      <td>6</td>\n",
       "      <td>0.99</td>\n",
       "      <td>86</td>\n",
       "      <td>2005-08-21 00:30:32</td>\n",
       "      <td>NaT</td>\n",
       "    </tr>\n",
       "    <tr>\n",
       "      <th>15862</th>\n",
       "      <td>FIGHT JAWBREAKER</td>\n",
       "      <td>1435</td>\n",
       "      <td>0.99</td>\n",
       "      <td>91</td>\n",
       "      <td>2006-02-14 15:16:03</td>\n",
       "      <td>NaT</td>\n",
       "    </tr>\n",
       "    <tr>\n",
       "      <th>15863</th>\n",
       "      <td>FLYING HOOK</td>\n",
       "      <td>1489</td>\n",
       "      <td>2.99</td>\n",
       "      <td>69</td>\n",
       "      <td>2006-02-14 15:16:03</td>\n",
       "      <td>NaT</td>\n",
       "    </tr>\n",
       "    <tr>\n",
       "      <th>15864</th>\n",
       "      <td>FORRESTER COMANCHEROS</td>\n",
       "      <td>1512</td>\n",
       "      <td>4.99</td>\n",
       "      <td>112</td>\n",
       "      <td>2006-02-14 15:16:03</td>\n",
       "      <td>NaT</td>\n",
       "    </tr>\n",
       "    <tr>\n",
       "      <th>15865</th>\n",
       "      <td>FRIDA SLIPPER</td>\n",
       "      <td>1540</td>\n",
       "      <td>2.99</td>\n",
       "      <td>73</td>\n",
       "      <td>2006-02-14 15:16:03</td>\n",
       "      <td>NaT</td>\n",
       "    </tr>\n",
       "    <tr>\n",
       "      <th>...</th>\n",
       "      <td>...</td>\n",
       "      <td>...</td>\n",
       "      <td>...</td>\n",
       "      <td>...</td>\n",
       "      <td>...</td>\n",
       "      <td>...</td>\n",
       "    </tr>\n",
       "    <tr>\n",
       "      <th>16040</th>\n",
       "      <td>ENOUGH RAGING</td>\n",
       "      <td>1295</td>\n",
       "      <td>2.99</td>\n",
       "      <td>158</td>\n",
       "      <td>2006-02-14 15:16:03</td>\n",
       "      <td>NaT</td>\n",
       "    </tr>\n",
       "    <tr>\n",
       "      <th>16041</th>\n",
       "      <td>FALCON VOLUME</td>\n",
       "      <td>1358</td>\n",
       "      <td>4.99</td>\n",
       "      <td>102</td>\n",
       "      <td>2006-02-14 15:16:03</td>\n",
       "      <td>NaT</td>\n",
       "    </tr>\n",
       "    <tr>\n",
       "      <th>16042</th>\n",
       "      <td>FAMILY SWEET</td>\n",
       "      <td>1367</td>\n",
       "      <td>0.99</td>\n",
       "      <td>155</td>\n",
       "      <td>2006-02-14 15:16:03</td>\n",
       "      <td>NaT</td>\n",
       "    </tr>\n",
       "    <tr>\n",
       "      <th>16043</th>\n",
       "      <td>FAMILY SWEET</td>\n",
       "      <td>1369</td>\n",
       "      <td>0.99</td>\n",
       "      <td>155</td>\n",
       "      <td>2006-02-14 15:16:03</td>\n",
       "      <td>NaT</td>\n",
       "    </tr>\n",
       "    <tr>\n",
       "      <th>16044</th>\n",
       "      <td>ACADEMY DINOSAUR</td>\n",
       "      <td>4</td>\n",
       "      <td>0.99</td>\n",
       "      <td>86</td>\n",
       "      <td>2022-08-30 02:25:41</td>\n",
       "      <td>NaT</td>\n",
       "    </tr>\n",
       "  </tbody>\n",
       "</table>\n",
       "<p>184 rows × 6 columns</p>\n",
       "</div>"
      ],
      "text/plain": [
       "                       title  inventory_id  rental_rate  length  \\\n",
       "13987       ACADEMY DINOSAUR             6         0.99      86   \n",
       "15862       FIGHT JAWBREAKER          1435         0.99      91   \n",
       "15863            FLYING HOOK          1489         2.99      69   \n",
       "15864  FORRESTER COMANCHEROS          1512         4.99     112   \n",
       "15865          FRIDA SLIPPER          1540         2.99      73   \n",
       "...                      ...           ...          ...     ...   \n",
       "16040          ENOUGH RAGING          1295         2.99     158   \n",
       "16041          FALCON VOLUME          1358         4.99     102   \n",
       "16042           FAMILY SWEET          1367         0.99     155   \n",
       "16043           FAMILY SWEET          1369         0.99     155   \n",
       "16044       ACADEMY DINOSAUR             4         0.99      86   \n",
       "\n",
       "              rental_date return_date  \n",
       "13987 2005-08-21 00:30:32         NaT  \n",
       "15862 2006-02-14 15:16:03         NaT  \n",
       "15863 2006-02-14 15:16:03         NaT  \n",
       "15864 2006-02-14 15:16:03         NaT  \n",
       "15865 2006-02-14 15:16:03         NaT  \n",
       "...                   ...         ...  \n",
       "16040 2006-02-14 15:16:03         NaT  \n",
       "16041 2006-02-14 15:16:03         NaT  \n",
       "16042 2006-02-14 15:16:03         NaT  \n",
       "16043 2006-02-14 15:16:03         NaT  \n",
       "16044 2022-08-30 02:25:41         NaT  \n",
       "\n",
       "[184 rows x 6 columns]"
      ]
     },
     "execution_count": 6,
     "metadata": {},
     "output_type": "execute_result"
    }
   ],
   "source": [
    "df.query('return_date != return_date') # These are all the films that we don't have any value for return_date\n",
    "\n",
    "# We wanted to check this point to evaluate wich month consider as a \"movie rented last month\""
   ]
  },
  {
   "cell_type": "markdown",
   "id": "7a307cf1",
   "metadata": {},
   "source": [
    "### Conclusion: \n",
    ">After the above explorations we decided to to build our logistic regression model trying to predict film rentals for September 2005 based on data from May, June, July and August 2005. Any data from different dates (February 2006 and a singular data entry from August 2022) will not be included in our model."
   ]
  },
  {
   "cell_type": "code",
   "execution_count": 7,
   "id": "cc1059b7",
   "metadata": {},
   "outputs": [],
   "source": [
    "# Changing the values of the column \"rental_date\" in order to have the month and the year and reducing as many options\n",
    "\n",
    "df['rental_date'] = df['rental_date'].apply(lambda x: x.strftime('%B-%Y'))"
   ]
  },
  {
   "cell_type": "code",
   "execution_count": 8,
   "id": "3e3b91a4",
   "metadata": {},
   "outputs": [
    {
     "data": {
      "text/plain": [
       "array(['May-2005', 'June-2005', 'July-2005', 'August-2005',\n",
       "       'February-2006', 'August-2022'], dtype=object)"
      ]
     },
     "execution_count": 8,
     "metadata": {},
     "output_type": "execute_result"
    }
   ],
   "source": [
    "df.rental_date.unique()"
   ]
  },
  {
   "cell_type": "code",
   "execution_count": 9,
   "id": "275b6f0d",
   "metadata": {},
   "outputs": [
    {
     "data": {
      "text/html": [
       "<div>\n",
       "<style scoped>\n",
       "    .dataframe tbody tr th:only-of-type {\n",
       "        vertical-align: middle;\n",
       "    }\n",
       "\n",
       "    .dataframe tbody tr th {\n",
       "        vertical-align: top;\n",
       "    }\n",
       "\n",
       "    .dataframe thead th {\n",
       "        text-align: right;\n",
       "    }\n",
       "</style>\n",
       "<table border=\"1\" class=\"dataframe\">\n",
       "  <thead>\n",
       "    <tr style=\"text-align: right;\">\n",
       "      <th></th>\n",
       "      <th>title</th>\n",
       "      <th>inventory_id</th>\n",
       "      <th>rental_rate</th>\n",
       "      <th>length</th>\n",
       "      <th>rental_date</th>\n",
       "      <th>return_date</th>\n",
       "    </tr>\n",
       "  </thead>\n",
       "  <tbody>\n",
       "    <tr>\n",
       "      <th>0</th>\n",
       "      <td>BLANKET BEVERLY</td>\n",
       "      <td>367</td>\n",
       "      <td>2.99</td>\n",
       "      <td>148</td>\n",
       "      <td>May-2005</td>\n",
       "      <td>2005-05-26 22:04:30</td>\n",
       "    </tr>\n",
       "    <tr>\n",
       "      <th>1</th>\n",
       "      <td>FREAKY POCUS</td>\n",
       "      <td>1525</td>\n",
       "      <td>2.99</td>\n",
       "      <td>126</td>\n",
       "      <td>May-2005</td>\n",
       "      <td>2005-05-28 19:40:33</td>\n",
       "    </tr>\n",
       "    <tr>\n",
       "      <th>2</th>\n",
       "      <td>GRADUATE LORD</td>\n",
       "      <td>1711</td>\n",
       "      <td>2.99</td>\n",
       "      <td>156</td>\n",
       "      <td>May-2005</td>\n",
       "      <td>2005-06-01 22:12:39</td>\n",
       "    </tr>\n",
       "    <tr>\n",
       "      <th>3</th>\n",
       "      <td>LOVE SUICIDES</td>\n",
       "      <td>2452</td>\n",
       "      <td>0.99</td>\n",
       "      <td>181</td>\n",
       "      <td>May-2005</td>\n",
       "      <td>2005-06-03 01:43:41</td>\n",
       "    </tr>\n",
       "    <tr>\n",
       "      <th>4</th>\n",
       "      <td>IDOLS SNATCHERS</td>\n",
       "      <td>2079</td>\n",
       "      <td>2.99</td>\n",
       "      <td>84</td>\n",
       "      <td>May-2005</td>\n",
       "      <td>2005-06-02 04:33:21</td>\n",
       "    </tr>\n",
       "    <tr>\n",
       "      <th>...</th>\n",
       "      <td>...</td>\n",
       "      <td>...</td>\n",
       "      <td>...</td>\n",
       "      <td>...</td>\n",
       "      <td>...</td>\n",
       "      <td>...</td>\n",
       "    </tr>\n",
       "    <tr>\n",
       "      <th>16040</th>\n",
       "      <td>ENOUGH RAGING</td>\n",
       "      <td>1295</td>\n",
       "      <td>2.99</td>\n",
       "      <td>158</td>\n",
       "      <td>February-2006</td>\n",
       "      <td>NaT</td>\n",
       "    </tr>\n",
       "    <tr>\n",
       "      <th>16041</th>\n",
       "      <td>FALCON VOLUME</td>\n",
       "      <td>1358</td>\n",
       "      <td>4.99</td>\n",
       "      <td>102</td>\n",
       "      <td>February-2006</td>\n",
       "      <td>NaT</td>\n",
       "    </tr>\n",
       "    <tr>\n",
       "      <th>16042</th>\n",
       "      <td>FAMILY SWEET</td>\n",
       "      <td>1367</td>\n",
       "      <td>0.99</td>\n",
       "      <td>155</td>\n",
       "      <td>February-2006</td>\n",
       "      <td>NaT</td>\n",
       "    </tr>\n",
       "    <tr>\n",
       "      <th>16043</th>\n",
       "      <td>FAMILY SWEET</td>\n",
       "      <td>1369</td>\n",
       "      <td>0.99</td>\n",
       "      <td>155</td>\n",
       "      <td>February-2006</td>\n",
       "      <td>NaT</td>\n",
       "    </tr>\n",
       "    <tr>\n",
       "      <th>16044</th>\n",
       "      <td>ACADEMY DINOSAUR</td>\n",
       "      <td>4</td>\n",
       "      <td>0.99</td>\n",
       "      <td>86</td>\n",
       "      <td>August-2022</td>\n",
       "      <td>NaT</td>\n",
       "    </tr>\n",
       "  </tbody>\n",
       "</table>\n",
       "<p>16045 rows × 6 columns</p>\n",
       "</div>"
      ],
      "text/plain": [
       "                  title  inventory_id  rental_rate  length    rental_date  \\\n",
       "0       BLANKET BEVERLY           367         2.99     148       May-2005   \n",
       "1          FREAKY POCUS          1525         2.99     126       May-2005   \n",
       "2         GRADUATE LORD          1711         2.99     156       May-2005   \n",
       "3         LOVE SUICIDES          2452         0.99     181       May-2005   \n",
       "4       IDOLS SNATCHERS          2079         2.99      84       May-2005   \n",
       "...                 ...           ...          ...     ...            ...   \n",
       "16040     ENOUGH RAGING          1295         2.99     158  February-2006   \n",
       "16041     FALCON VOLUME          1358         4.99     102  February-2006   \n",
       "16042      FAMILY SWEET          1367         0.99     155  February-2006   \n",
       "16043      FAMILY SWEET          1369         0.99     155  February-2006   \n",
       "16044  ACADEMY DINOSAUR             4         0.99      86    August-2022   \n",
       "\n",
       "              return_date  \n",
       "0     2005-05-26 22:04:30  \n",
       "1     2005-05-28 19:40:33  \n",
       "2     2005-06-01 22:12:39  \n",
       "3     2005-06-03 01:43:41  \n",
       "4     2005-06-02 04:33:21  \n",
       "...                   ...  \n",
       "16040                 NaT  \n",
       "16041                 NaT  \n",
       "16042                 NaT  \n",
       "16043                 NaT  \n",
       "16044                 NaT  \n",
       "\n",
       "[16045 rows x 6 columns]"
      ]
     },
     "execution_count": 9,
     "metadata": {},
     "output_type": "execute_result"
    }
   ],
   "source": [
    "df"
   ]
  },
  {
   "cell_type": "code",
   "execution_count": 10,
   "id": "8cc81344",
   "metadata": {},
   "outputs": [
    {
     "data": {
      "text/html": [
       "<div>\n",
       "<style scoped>\n",
       "    .dataframe tbody tr th:only-of-type {\n",
       "        vertical-align: middle;\n",
       "    }\n",
       "\n",
       "    .dataframe tbody tr th {\n",
       "        vertical-align: top;\n",
       "    }\n",
       "\n",
       "    .dataframe thead th {\n",
       "        text-align: right;\n",
       "    }\n",
       "</style>\n",
       "<table border=\"1\" class=\"dataframe\">\n",
       "  <thead>\n",
       "    <tr style=\"text-align: right;\">\n",
       "      <th></th>\n",
       "      <th>title</th>\n",
       "      <th>inventory_id</th>\n",
       "      <th>rental_rate</th>\n",
       "      <th>length</th>\n",
       "      <th>rental_date</th>\n",
       "      <th>return_date</th>\n",
       "    </tr>\n",
       "  </thead>\n",
       "  <tbody>\n",
       "    <tr>\n",
       "      <th>0</th>\n",
       "      <td>BLANKET BEVERLY</td>\n",
       "      <td>367</td>\n",
       "      <td>2.99</td>\n",
       "      <td>148</td>\n",
       "      <td>May-2005</td>\n",
       "      <td>2005-05-26 22:04:30</td>\n",
       "    </tr>\n",
       "    <tr>\n",
       "      <th>1</th>\n",
       "      <td>FREAKY POCUS</td>\n",
       "      <td>1525</td>\n",
       "      <td>2.99</td>\n",
       "      <td>126</td>\n",
       "      <td>May-2005</td>\n",
       "      <td>2005-05-28 19:40:33</td>\n",
       "    </tr>\n",
       "    <tr>\n",
       "      <th>2</th>\n",
       "      <td>GRADUATE LORD</td>\n",
       "      <td>1711</td>\n",
       "      <td>2.99</td>\n",
       "      <td>156</td>\n",
       "      <td>May-2005</td>\n",
       "      <td>2005-06-01 22:12:39</td>\n",
       "    </tr>\n",
       "    <tr>\n",
       "      <th>3</th>\n",
       "      <td>LOVE SUICIDES</td>\n",
       "      <td>2452</td>\n",
       "      <td>0.99</td>\n",
       "      <td>181</td>\n",
       "      <td>May-2005</td>\n",
       "      <td>2005-06-03 01:43:41</td>\n",
       "    </tr>\n",
       "    <tr>\n",
       "      <th>4</th>\n",
       "      <td>IDOLS SNATCHERS</td>\n",
       "      <td>2079</td>\n",
       "      <td>2.99</td>\n",
       "      <td>84</td>\n",
       "      <td>May-2005</td>\n",
       "      <td>2005-06-02 04:33:21</td>\n",
       "    </tr>\n",
       "    <tr>\n",
       "      <th>...</th>\n",
       "      <td>...</td>\n",
       "      <td>...</td>\n",
       "      <td>...</td>\n",
       "      <td>...</td>\n",
       "      <td>...</td>\n",
       "      <td>...</td>\n",
       "    </tr>\n",
       "    <tr>\n",
       "      <th>15857</th>\n",
       "      <td>COMANCHEROS ENEMY</td>\n",
       "      <td>772</td>\n",
       "      <td>0.99</td>\n",
       "      <td>67</td>\n",
       "      <td>August-2005</td>\n",
       "      <td>2005-08-25 23:54:26</td>\n",
       "    </tr>\n",
       "    <tr>\n",
       "      <th>15858</th>\n",
       "      <td>VOYAGE LEGALLY</td>\n",
       "      <td>4364</td>\n",
       "      <td>0.99</td>\n",
       "      <td>78</td>\n",
       "      <td>August-2005</td>\n",
       "      <td>2005-08-27 18:02:47</td>\n",
       "    </tr>\n",
       "    <tr>\n",
       "      <th>15859</th>\n",
       "      <td>ILLUSION AMELIE</td>\n",
       "      <td>2088</td>\n",
       "      <td>0.99</td>\n",
       "      <td>122</td>\n",
       "      <td>August-2005</td>\n",
       "      <td>2005-08-25 02:48:48</td>\n",
       "    </tr>\n",
       "    <tr>\n",
       "      <th>15860</th>\n",
       "      <td>HUNCHBACK IMPOSSIBLE</td>\n",
       "      <td>2019</td>\n",
       "      <td>4.99</td>\n",
       "      <td>151</td>\n",
       "      <td>August-2005</td>\n",
       "      <td>2005-08-31 21:33:07</td>\n",
       "    </tr>\n",
       "    <tr>\n",
       "      <th>15861</th>\n",
       "      <td>MOB DUFFEL</td>\n",
       "      <td>2666</td>\n",
       "      <td>0.99</td>\n",
       "      <td>105</td>\n",
       "      <td>August-2005</td>\n",
       "      <td>2005-08-30 01:01:12</td>\n",
       "    </tr>\n",
       "  </tbody>\n",
       "</table>\n",
       "<p>15862 rows × 6 columns</p>\n",
       "</div>"
      ],
      "text/plain": [
       "                      title  inventory_id  rental_rate  length  rental_date  \\\n",
       "0           BLANKET BEVERLY           367         2.99     148     May-2005   \n",
       "1              FREAKY POCUS          1525         2.99     126     May-2005   \n",
       "2             GRADUATE LORD          1711         2.99     156     May-2005   \n",
       "3             LOVE SUICIDES          2452         0.99     181     May-2005   \n",
       "4           IDOLS SNATCHERS          2079         2.99      84     May-2005   \n",
       "...                     ...           ...          ...     ...          ...   \n",
       "15857     COMANCHEROS ENEMY           772         0.99      67  August-2005   \n",
       "15858        VOYAGE LEGALLY          4364         0.99      78  August-2005   \n",
       "15859       ILLUSION AMELIE          2088         0.99     122  August-2005   \n",
       "15860  HUNCHBACK IMPOSSIBLE          2019         4.99     151  August-2005   \n",
       "15861            MOB DUFFEL          2666         0.99     105  August-2005   \n",
       "\n",
       "              return_date  \n",
       "0     2005-05-26 22:04:30  \n",
       "1     2005-05-28 19:40:33  \n",
       "2     2005-06-01 22:12:39  \n",
       "3     2005-06-03 01:43:41  \n",
       "4     2005-06-02 04:33:21  \n",
       "...                   ...  \n",
       "15857 2005-08-25 23:54:26  \n",
       "15858 2005-08-27 18:02:47  \n",
       "15859 2005-08-25 02:48:48  \n",
       "15860 2005-08-31 21:33:07  \n",
       "15861 2005-08-30 01:01:12  \n",
       "\n",
       "[15862 rows x 6 columns]"
      ]
     },
     "execution_count": 10,
     "metadata": {},
     "output_type": "execute_result"
    }
   ],
   "source": [
    "# Getting only the rows we are interested in and renaming the dataframe\n",
    "\n",
    "df1 = df[df[\"rental_date\"].isin(['May-2005', 'June-2005', 'July-2005', 'August-2005'])]\n",
    "df1"
   ]
  },
  {
   "cell_type": "code",
   "execution_count": 11,
   "id": "23e98c5d",
   "metadata": {},
   "outputs": [
    {
     "data": {
      "text/plain": [
       "array(['May-2005', 'June-2005', 'July-2005', 'August-2005'], dtype=object)"
      ]
     },
     "execution_count": 11,
     "metadata": {},
     "output_type": "execute_result"
    }
   ],
   "source": [
    "# Sanity check\n",
    "\n",
    "df1.rental_date.unique()"
   ]
  },
  {
   "cell_type": "code",
   "execution_count": 12,
   "id": "fddee29c",
   "metadata": {},
   "outputs": [
    {
     "data": {
      "text/html": [
       "<div>\n",
       "<style scoped>\n",
       "    .dataframe tbody tr th:only-of-type {\n",
       "        vertical-align: middle;\n",
       "    }\n",
       "\n",
       "    .dataframe tbody tr th {\n",
       "        vertical-align: top;\n",
       "    }\n",
       "\n",
       "    .dataframe thead th {\n",
       "        text-align: right;\n",
       "    }\n",
       "</style>\n",
       "<table border=\"1\" class=\"dataframe\">\n",
       "  <thead>\n",
       "    <tr style=\"text-align: right;\">\n",
       "      <th></th>\n",
       "      <th>title</th>\n",
       "      <th>inventory_id</th>\n",
       "      <th>rental_rate</th>\n",
       "      <th>length</th>\n",
       "      <th>rental_date</th>\n",
       "    </tr>\n",
       "  </thead>\n",
       "  <tbody>\n",
       "    <tr>\n",
       "      <th>0</th>\n",
       "      <td>BLANKET BEVERLY</td>\n",
       "      <td>367</td>\n",
       "      <td>2.99</td>\n",
       "      <td>148</td>\n",
       "      <td>May-2005</td>\n",
       "    </tr>\n",
       "    <tr>\n",
       "      <th>1</th>\n",
       "      <td>FREAKY POCUS</td>\n",
       "      <td>1525</td>\n",
       "      <td>2.99</td>\n",
       "      <td>126</td>\n",
       "      <td>May-2005</td>\n",
       "    </tr>\n",
       "    <tr>\n",
       "      <th>2</th>\n",
       "      <td>GRADUATE LORD</td>\n",
       "      <td>1711</td>\n",
       "      <td>2.99</td>\n",
       "      <td>156</td>\n",
       "      <td>May-2005</td>\n",
       "    </tr>\n",
       "    <tr>\n",
       "      <th>3</th>\n",
       "      <td>LOVE SUICIDES</td>\n",
       "      <td>2452</td>\n",
       "      <td>0.99</td>\n",
       "      <td>181</td>\n",
       "      <td>May-2005</td>\n",
       "    </tr>\n",
       "    <tr>\n",
       "      <th>4</th>\n",
       "      <td>IDOLS SNATCHERS</td>\n",
       "      <td>2079</td>\n",
       "      <td>2.99</td>\n",
       "      <td>84</td>\n",
       "      <td>May-2005</td>\n",
       "    </tr>\n",
       "  </tbody>\n",
       "</table>\n",
       "</div>"
      ],
      "text/plain": [
       "             title  inventory_id  rental_rate  length rental_date\n",
       "0  BLANKET BEVERLY           367         2.99     148    May-2005\n",
       "1     FREAKY POCUS          1525         2.99     126    May-2005\n",
       "2    GRADUATE LORD          1711         2.99     156    May-2005\n",
       "3    LOVE SUICIDES          2452         0.99     181    May-2005\n",
       "4  IDOLS SNATCHERS          2079         2.99      84    May-2005"
      ]
     },
     "execution_count": 12,
     "metadata": {},
     "output_type": "execute_result"
    }
   ],
   "source": [
    "# Dropping the column return_date due to useless by now\n",
    "\n",
    "df1.drop([\"return_date\"], axis=1, inplace = True)\n",
    "df1.head()"
   ]
  },
  {
   "cell_type": "markdown",
   "id": "7f745fa3",
   "metadata": {},
   "source": [
    "\n",
    "* **4. Create a query to get the list of films and a boolean indicating if it was rented last month. This would be our target variable.**\n"
   ]
  },
  {
   "cell_type": "code",
   "execution_count": 13,
   "id": "98026650",
   "metadata": {
    "scrolled": true
   },
   "outputs": [
    {
     "data": {
      "text/html": [
       "<div>\n",
       "<style scoped>\n",
       "    .dataframe tbody tr th:only-of-type {\n",
       "        vertical-align: middle;\n",
       "    }\n",
       "\n",
       "    .dataframe tbody tr th {\n",
       "        vertical-align: top;\n",
       "    }\n",
       "\n",
       "    .dataframe thead th {\n",
       "        text-align: right;\n",
       "    }\n",
       "</style>\n",
       "<table border=\"1\" class=\"dataframe\">\n",
       "  <thead>\n",
       "    <tr style=\"text-align: right;\">\n",
       "      <th></th>\n",
       "      <th>title</th>\n",
       "      <th>inventory_id</th>\n",
       "      <th>rental_rate</th>\n",
       "      <th>length</th>\n",
       "      <th>rental_date</th>\n",
       "      <th>rented_last_mont</th>\n",
       "    </tr>\n",
       "  </thead>\n",
       "  <tbody>\n",
       "    <tr>\n",
       "      <th>0</th>\n",
       "      <td>BLANKET BEVERLY</td>\n",
       "      <td>367</td>\n",
       "      <td>2.99</td>\n",
       "      <td>148</td>\n",
       "      <td>May-2005</td>\n",
       "      <td>0</td>\n",
       "    </tr>\n",
       "    <tr>\n",
       "      <th>1</th>\n",
       "      <td>FREAKY POCUS</td>\n",
       "      <td>1525</td>\n",
       "      <td>2.99</td>\n",
       "      <td>126</td>\n",
       "      <td>May-2005</td>\n",
       "      <td>0</td>\n",
       "    </tr>\n",
       "    <tr>\n",
       "      <th>2</th>\n",
       "      <td>GRADUATE LORD</td>\n",
       "      <td>1711</td>\n",
       "      <td>2.99</td>\n",
       "      <td>156</td>\n",
       "      <td>May-2005</td>\n",
       "      <td>0</td>\n",
       "    </tr>\n",
       "    <tr>\n",
       "      <th>3</th>\n",
       "      <td>LOVE SUICIDES</td>\n",
       "      <td>2452</td>\n",
       "      <td>0.99</td>\n",
       "      <td>181</td>\n",
       "      <td>May-2005</td>\n",
       "      <td>0</td>\n",
       "    </tr>\n",
       "    <tr>\n",
       "      <th>4</th>\n",
       "      <td>IDOLS SNATCHERS</td>\n",
       "      <td>2079</td>\n",
       "      <td>2.99</td>\n",
       "      <td>84</td>\n",
       "      <td>May-2005</td>\n",
       "      <td>0</td>\n",
       "    </tr>\n",
       "    <tr>\n",
       "      <th>...</th>\n",
       "      <td>...</td>\n",
       "      <td>...</td>\n",
       "      <td>...</td>\n",
       "      <td>...</td>\n",
       "      <td>...</td>\n",
       "      <td>...</td>\n",
       "    </tr>\n",
       "    <tr>\n",
       "      <th>15857</th>\n",
       "      <td>COMANCHEROS ENEMY</td>\n",
       "      <td>772</td>\n",
       "      <td>0.99</td>\n",
       "      <td>67</td>\n",
       "      <td>August-2005</td>\n",
       "      <td>1</td>\n",
       "    </tr>\n",
       "    <tr>\n",
       "      <th>15858</th>\n",
       "      <td>VOYAGE LEGALLY</td>\n",
       "      <td>4364</td>\n",
       "      <td>0.99</td>\n",
       "      <td>78</td>\n",
       "      <td>August-2005</td>\n",
       "      <td>1</td>\n",
       "    </tr>\n",
       "    <tr>\n",
       "      <th>15859</th>\n",
       "      <td>ILLUSION AMELIE</td>\n",
       "      <td>2088</td>\n",
       "      <td>0.99</td>\n",
       "      <td>122</td>\n",
       "      <td>August-2005</td>\n",
       "      <td>1</td>\n",
       "    </tr>\n",
       "    <tr>\n",
       "      <th>15860</th>\n",
       "      <td>HUNCHBACK IMPOSSIBLE</td>\n",
       "      <td>2019</td>\n",
       "      <td>4.99</td>\n",
       "      <td>151</td>\n",
       "      <td>August-2005</td>\n",
       "      <td>1</td>\n",
       "    </tr>\n",
       "    <tr>\n",
       "      <th>15861</th>\n",
       "      <td>MOB DUFFEL</td>\n",
       "      <td>2666</td>\n",
       "      <td>0.99</td>\n",
       "      <td>105</td>\n",
       "      <td>August-2005</td>\n",
       "      <td>1</td>\n",
       "    </tr>\n",
       "  </tbody>\n",
       "</table>\n",
       "<p>15862 rows × 6 columns</p>\n",
       "</div>"
      ],
      "text/plain": [
       "                      title  inventory_id  rental_rate  length  rental_date  \\\n",
       "0           BLANKET BEVERLY           367         2.99     148     May-2005   \n",
       "1              FREAKY POCUS          1525         2.99     126     May-2005   \n",
       "2             GRADUATE LORD          1711         2.99     156     May-2005   \n",
       "3             LOVE SUICIDES          2452         0.99     181     May-2005   \n",
       "4           IDOLS SNATCHERS          2079         2.99      84     May-2005   \n",
       "...                     ...           ...          ...     ...          ...   \n",
       "15857     COMANCHEROS ENEMY           772         0.99      67  August-2005   \n",
       "15858        VOYAGE LEGALLY          4364         0.99      78  August-2005   \n",
       "15859       ILLUSION AMELIE          2088         0.99     122  August-2005   \n",
       "15860  HUNCHBACK IMPOSSIBLE          2019         4.99     151  August-2005   \n",
       "15861            MOB DUFFEL          2666         0.99     105  August-2005   \n",
       "\n",
       "       rented_last_mont  \n",
       "0                     0  \n",
       "1                     0  \n",
       "2                     0  \n",
       "3                     0  \n",
       "4                     0  \n",
       "...                 ...  \n",
       "15857                 1  \n",
       "15858                 1  \n",
       "15859                 1  \n",
       "15860                 1  \n",
       "15861                 1  \n",
       "\n",
       "[15862 rows x 6 columns]"
      ]
     },
     "execution_count": 13,
     "metadata": {},
     "output_type": "execute_result"
    }
   ],
   "source": [
    "# Creating a new column to show if the movie was rented the previous month or not\n",
    "\n",
    "def rental_last_mont(x):  \n",
    "    if x['rental_date'] == 'August-2005':\n",
    "        return 1\n",
    "    else:\n",
    "        return 0\n",
    "    \n",
    "df1['rented_last_mont'] = df1.apply(lambda x: rental_last_mont(x), axis=1)\n",
    "df1"
   ]
  },
  {
   "cell_type": "code",
   "execution_count": 14,
   "id": "b121684e",
   "metadata": {
    "scrolled": true
   },
   "outputs": [
    {
     "data": {
      "text/plain": [
       "0    0.641533\n",
       "1    0.358467\n",
       "Name: rented_last_mont, dtype: float64"
      ]
     },
     "execution_count": 14,
     "metadata": {},
     "output_type": "execute_result"
    }
   ],
   "source": [
    "# Checking the distribution of the target variable\n",
    "\n",
    "df1.rented_last_mont.value_counts(normalize=True)"
   ]
  },
  {
   "cell_type": "code",
   "execution_count": 15,
   "id": "39d786fc",
   "metadata": {},
   "outputs": [
    {
     "name": "stdout",
     "output_type": "stream",
     "text": [
      "<class 'pandas.core.frame.DataFrame'>\n",
      "Int64Index: 15862 entries, 0 to 15861\n",
      "Data columns (total 6 columns):\n",
      " #   Column            Non-Null Count  Dtype  \n",
      "---  ------            --------------  -----  \n",
      " 0   title             15862 non-null  object \n",
      " 1   inventory_id      15862 non-null  int64  \n",
      " 2   rental_rate       15862 non-null  float64\n",
      " 3   length            15862 non-null  int64  \n",
      " 4   rental_date       15862 non-null  object \n",
      " 5   rented_last_mont  15862 non-null  int64  \n",
      "dtypes: float64(1), int64(3), object(2)\n",
      "memory usage: 867.5+ KB\n"
     ]
    }
   ],
   "source": [
    "# Checking the Dtype of the features\n",
    "\n",
    "df1.info()"
   ]
  },
  {
   "cell_type": "code",
   "execution_count": 16,
   "id": "10243c6c",
   "metadata": {},
   "outputs": [],
   "source": [
    "# Converting the object ones to strings\n",
    "\n",
    "df1.title = df1.title.astype(\"string\")\n",
    "df1.rental_date = df1.rental_date.astype(\"string\")"
   ]
  },
  {
   "cell_type": "code",
   "execution_count": 17,
   "id": "f272c126",
   "metadata": {},
   "outputs": [
    {
     "name": "stdout",
     "output_type": "stream",
     "text": [
      "<class 'pandas.core.frame.DataFrame'>\n",
      "Int64Index: 15862 entries, 0 to 15861\n",
      "Data columns (total 6 columns):\n",
      " #   Column            Non-Null Count  Dtype  \n",
      "---  ------            --------------  -----  \n",
      " 0   title             15862 non-null  string \n",
      " 1   inventory_id      15862 non-null  int64  \n",
      " 2   rental_rate       15862 non-null  float64\n",
      " 3   length            15862 non-null  int64  \n",
      " 4   rental_date       15862 non-null  string \n",
      " 5   rented_last_mont  15862 non-null  int64  \n",
      "dtypes: float64(1), int64(3), string(2)\n",
      "memory usage: 867.5 KB\n"
     ]
    }
   ],
   "source": [
    "# Sanity check\n",
    "\n",
    "df1.info()"
   ]
  },
  {
   "cell_type": "markdown",
   "id": "ee3b24a3",
   "metadata": {},
   "source": [
    "* **5. Create a logistic regression model to predict this variable from the cleaned data.**"
   ]
  },
  {
   "cell_type": "code",
   "execution_count": 18,
   "id": "8325c037",
   "metadata": {},
   "outputs": [],
   "source": [
    "# Transforming categorical features into numerical\n",
    "\n",
    "le = LabelEncoder()\n",
    "df1.title = le.fit_transform(df1.title)\n",
    "df1.rental_date = le.fit_transform(df1.rental_date)"
   ]
  },
  {
   "cell_type": "code",
   "execution_count": 19,
   "id": "6bcdbd8a",
   "metadata": {},
   "outputs": [],
   "source": [
    "# Splitting into explanative and target variable\n",
    "\n",
    "X = df1.iloc[:, :-1]\n",
    "y = df1.rented_last_mont"
   ]
  },
  {
   "cell_type": "code",
   "execution_count": 20,
   "id": "381ee4b7",
   "metadata": {},
   "outputs": [],
   "source": [
    "# Division of the dataset into trains and a test set\n",
    "\n",
    "X_train, X_test, y_train, y_test = train_test_split(X,y, test_size = 0.25, random_state=0)"
   ]
  },
  {
   "cell_type": "code",
   "execution_count": 21,
   "id": "16642182",
   "metadata": {},
   "outputs": [
    {
     "name": "stdout",
     "output_type": "stream",
     "text": [
      "Number of rows of X_train = 11896\n",
      "Number of rows of X_test = 3966\n",
      "Number of rows of y_train= 11896\n",
      "Number of rows of y_test = 3966\n",
      "Percentage of train values = 75.0 %\n"
     ]
    }
   ],
   "source": [
    "# Checking if every done value matches\n",
    "\n",
    "print(\"Number of rows of X_train = {}\".format(len(X_train)))\n",
    "print(\"Number of rows of X_test = {}\".format(len(X_test)))\n",
    "print(\"Number of rows of y_train= {}\".format(len(y_train)))\n",
    "print(\"Number of rows of y_test = {}\".format(len(y_test)))\n",
    "print(\"Percentage of train values = {}\".format(round(len(X_train)/len(X), 4) * 100),\"%\")"
   ]
  },
  {
   "cell_type": "code",
   "execution_count": 22,
   "id": "9a7cda76",
   "metadata": {},
   "outputs": [],
   "source": [
    "# Preprocessing X_train and X_test\n",
    "\n",
    "scaler = StandardScaler()  \n",
    "\n",
    "X_train = scaler.fit_transform(X_train)\n",
    "X_test = scaler.transform(X_test)"
   ]
  },
  {
   "cell_type": "code",
   "execution_count": 23,
   "id": "c7dfc082",
   "metadata": {},
   "outputs": [
    {
     "data": {
      "text/html": [
       "<style>#sk-container-id-1 {color: black;background-color: white;}#sk-container-id-1 pre{padding: 0;}#sk-container-id-1 div.sk-toggleable {background-color: white;}#sk-container-id-1 label.sk-toggleable__label {cursor: pointer;display: block;width: 100%;margin-bottom: 0;padding: 0.3em;box-sizing: border-box;text-align: center;}#sk-container-id-1 label.sk-toggleable__label-arrow:before {content: \"▸\";float: left;margin-right: 0.25em;color: #696969;}#sk-container-id-1 label.sk-toggleable__label-arrow:hover:before {color: black;}#sk-container-id-1 div.sk-estimator:hover label.sk-toggleable__label-arrow:before {color: black;}#sk-container-id-1 div.sk-toggleable__content {max-height: 0;max-width: 0;overflow: hidden;text-align: left;background-color: #f0f8ff;}#sk-container-id-1 div.sk-toggleable__content pre {margin: 0.2em;color: black;border-radius: 0.25em;background-color: #f0f8ff;}#sk-container-id-1 input.sk-toggleable__control:checked~div.sk-toggleable__content {max-height: 200px;max-width: 100%;overflow: auto;}#sk-container-id-1 input.sk-toggleable__control:checked~label.sk-toggleable__label-arrow:before {content: \"▾\";}#sk-container-id-1 div.sk-estimator input.sk-toggleable__control:checked~label.sk-toggleable__label {background-color: #d4ebff;}#sk-container-id-1 div.sk-label input.sk-toggleable__control:checked~label.sk-toggleable__label {background-color: #d4ebff;}#sk-container-id-1 input.sk-hidden--visually {border: 0;clip: rect(1px 1px 1px 1px);clip: rect(1px, 1px, 1px, 1px);height: 1px;margin: -1px;overflow: hidden;padding: 0;position: absolute;width: 1px;}#sk-container-id-1 div.sk-estimator {font-family: monospace;background-color: #f0f8ff;border: 1px dotted black;border-radius: 0.25em;box-sizing: border-box;margin-bottom: 0.5em;}#sk-container-id-1 div.sk-estimator:hover {background-color: #d4ebff;}#sk-container-id-1 div.sk-parallel-item::after {content: \"\";width: 100%;border-bottom: 1px solid gray;flex-grow: 1;}#sk-container-id-1 div.sk-label:hover label.sk-toggleable__label {background-color: #d4ebff;}#sk-container-id-1 div.sk-serial::before {content: \"\";position: absolute;border-left: 1px solid gray;box-sizing: border-box;top: 0;bottom: 0;left: 50%;z-index: 0;}#sk-container-id-1 div.sk-serial {display: flex;flex-direction: column;align-items: center;background-color: white;padding-right: 0.2em;padding-left: 0.2em;position: relative;}#sk-container-id-1 div.sk-item {position: relative;z-index: 1;}#sk-container-id-1 div.sk-parallel {display: flex;align-items: stretch;justify-content: center;background-color: white;position: relative;}#sk-container-id-1 div.sk-item::before, #sk-container-id-1 div.sk-parallel-item::before {content: \"\";position: absolute;border-left: 1px solid gray;box-sizing: border-box;top: 0;bottom: 0;left: 50%;z-index: -1;}#sk-container-id-1 div.sk-parallel-item {display: flex;flex-direction: column;z-index: 1;position: relative;background-color: white;}#sk-container-id-1 div.sk-parallel-item:first-child::after {align-self: flex-end;width: 50%;}#sk-container-id-1 div.sk-parallel-item:last-child::after {align-self: flex-start;width: 50%;}#sk-container-id-1 div.sk-parallel-item:only-child::after {width: 0;}#sk-container-id-1 div.sk-dashed-wrapped {border: 1px dashed gray;margin: 0 0.4em 0.5em 0.4em;box-sizing: border-box;padding-bottom: 0.4em;background-color: white;}#sk-container-id-1 div.sk-label label {font-family: monospace;font-weight: bold;display: inline-block;line-height: 1.2em;}#sk-container-id-1 div.sk-label-container {text-align: center;}#sk-container-id-1 div.sk-container {/* jupyter's `normalize.less` sets `[hidden] { display: none; }` but bootstrap.min.css set `[hidden] { display: none !important; }` so we also need the `!important` here to be able to override the default hidden behavior on the sphinx rendered scikit-learn.org. See: https://github.com/scikit-learn/scikit-learn/issues/21755 */display: inline-block !important;position: relative;}#sk-container-id-1 div.sk-text-repr-fallback {display: none;}</style><div id=\"sk-container-id-1\" class=\"sk-top-container\"><div class=\"sk-text-repr-fallback\"><pre>LogisticRegression()</pre><b>In a Jupyter environment, please rerun this cell to show the HTML representation or trust the notebook. <br />On GitHub, the HTML representation is unable to render, please try loading this page with nbviewer.org.</b></div><div class=\"sk-container\" hidden><div class=\"sk-item\"><div class=\"sk-estimator sk-toggleable\"><input class=\"sk-toggleable__control sk-hidden--visually\" id=\"sk-estimator-id-1\" type=\"checkbox\" checked><label for=\"sk-estimator-id-1\" class=\"sk-toggleable__label sk-toggleable__label-arrow\">LogisticRegression</label><div class=\"sk-toggleable__content\"><pre>LogisticRegression()</pre></div></div></div></div></div>"
      ],
      "text/plain": [
       "LogisticRegression()"
      ]
     },
     "execution_count": 23,
     "metadata": {},
     "output_type": "execute_result"
    }
   ],
   "source": [
    "# Train the model\n",
    "\n",
    "classifier = LogisticRegression()\n",
    "classifier.fit(X_train, y_train)"
   ]
  },
  {
   "cell_type": "code",
   "execution_count": 24,
   "id": "6e24bb99",
   "metadata": {},
   "outputs": [
    {
     "data": {
      "text/plain": [
       "array([1, 0, 0, ..., 0, 1, 0], dtype=int64)"
      ]
     },
     "execution_count": 24,
     "metadata": {},
     "output_type": "execute_result"
    }
   ],
   "source": [
    "# Create predictions for the X_train\n",
    "\n",
    "pred_train = classifier.predict(X_train)\n",
    "pred_train"
   ]
  },
  {
   "cell_type": "code",
   "execution_count": 25,
   "id": "518541aa",
   "metadata": {},
   "outputs": [
    {
     "data": {
      "text/plain": [
       "array([[2.35399238e-03, 9.97646008e-01],\n",
       "       [9.98038326e-01, 1.96167385e-03],\n",
       "       [9.98022011e-01, 1.97798884e-03],\n",
       "       ...,\n",
       "       [9.98025681e-01, 1.97431917e-03],\n",
       "       [2.29238042e-03, 9.97707620e-01],\n",
       "       [9.99999991e-01, 8.53959909e-09]])"
      ]
     },
     "execution_count": 25,
     "metadata": {},
     "output_type": "execute_result"
    }
   ],
   "source": [
    "# Checking the probability of the predictions for the X_train\n",
    "\n",
    "prob_train = classifier.predict_proba(X_train)\n",
    "prob_train"
   ]
  },
  {
   "cell_type": "code",
   "execution_count": 26,
   "id": "30078d61",
   "metadata": {},
   "outputs": [
    {
     "data": {
      "text/plain": [
       "array([0, 0, 1, ..., 1, 0, 0], dtype=int64)"
      ]
     },
     "execution_count": 26,
     "metadata": {},
     "output_type": "execute_result"
    }
   ],
   "source": [
    "# Create predictions for the X_train\n",
    "\n",
    "pred_test = classifier.predict(X_test)\n",
    "pred_test"
   ]
  },
  {
   "cell_type": "code",
   "execution_count": 27,
   "id": "358be3a5",
   "metadata": {},
   "outputs": [
    {
     "data": {
      "text/plain": [
       "array([[9.98111184e-01, 1.88881565e-03],\n",
       "       [9.99999991e-01, 8.81633439e-09],\n",
       "       [2.24488469e-03, 9.97755115e-01],\n",
       "       ...,\n",
       "       [2.27789227e-03, 9.97722108e-01],\n",
       "       [9.98008372e-01, 1.99162802e-03],\n",
       "       [9.98033774e-01, 1.96622630e-03]])"
      ]
     },
     "execution_count": 27,
     "metadata": {},
     "output_type": "execute_result"
    }
   ],
   "source": [
    "# Checking the probability of the predictions for the X_train\n",
    "\n",
    "prob_test = classifier.predict_proba(X_test)\n",
    "prob_test"
   ]
  },
  {
   "cell_type": "markdown",
   "id": "797e249f",
   "metadata": {},
   "source": [
    "* **6. Evaluate the results.**"
   ]
  },
  {
   "cell_type": "code",
   "execution_count": 28,
   "id": "fce213ed",
   "metadata": {},
   "outputs": [],
   "source": [
    "# The results of the probability are weird, we have to analize them further"
   ]
  },
  {
   "cell_type": "code",
   "execution_count": 29,
   "id": "e8163d81",
   "metadata": {},
   "outputs": [
    {
     "data": {
      "image/png": "[encoded data removed]",
      "text/plain": [
       "<Figure size 432x288 with 2 Axes>"
      ]
     },
     "metadata": {
      "needs_background": "light"
     },
     "output_type": "display_data"
    },
    {
     "data": {
      "image/png": "[encoded data removed]",
      "text/plain": [
       "<Figure size 432x288 with 2 Axes>"
      ]
     },
     "metadata": {
      "needs_background": "light"
     },
     "output_type": "display_data"
    }
   ],
   "source": [
    "# Plotting Confusion Matrix for Train and Test set\n",
    "\n",
    "_ , ax = plt.subplots()\n",
    "ax.set(title=\"Confusion Matrix on Train set\")\n",
    "ConfusionMatrixDisplay.from_estimator(classifier, X_train, y_train, ax=ax)\n",
    "plt.show()\n",
    "\n",
    "_ , ax = plt.subplots()\n",
    "ax.set(title=\"Confusion Matrix on Test set\")\n",
    "ConfusionMatrixDisplay.from_estimator(classifier, X_test, y_test, ax=ax)\n",
    "plt.show()"
   ]
  },
  {
   "cell_type": "code",
   "execution_count": 30,
   "id": "b546fd4b",
   "metadata": {},
   "outputs": [],
   "source": [
    "# It's amazing that our model didn't learn any false positive or false negative"
   ]
  },
  {
   "cell_type": "code",
   "execution_count": 31,
   "id": "0ac72a96",
   "metadata": {},
   "outputs": [
    {
     "name": "stdout",
     "output_type": "stream",
     "text": [
      "              precision    recall  f1-score   support\n",
      "\n",
      "           0       1.00      1.00      1.00      7651\n",
      "           1       1.00      1.00      1.00      4245\n",
      "\n",
      "    accuracy                           1.00     11896\n",
      "   macro avg       1.00      1.00      1.00     11896\n",
      "weighted avg       1.00      1.00      1.00     11896\n",
      "\n",
      "              precision    recall  f1-score   support\n",
      "\n",
      "           0       1.00      1.00      1.00      2525\n",
      "           1       1.00      1.00      1.00      1441\n",
      "\n",
      "    accuracy                           1.00      3966\n",
      "   macro avg       1.00      1.00      1.00      3966\n",
      "weighted avg       1.00      1.00      1.00      3966\n",
      "\n"
     ]
    }
   ],
   "source": [
    "# Printing the classification report to see the results more detailed\n",
    "\n",
    "print(classification_report(y_train, pred_train))\n",
    "print(classification_report(y_test, pred_test))"
   ]
  },
  {
   "cell_type": "markdown",
   "id": "2946b349",
   "metadata": {},
   "source": [
    "### CONCLUSION:\n",
    ">The results are too good to being considered correctly. There is probably a collinearity between some of the features or the fact that we have only one month to consider if a movie was rented or not, does that our model doesn't learn anything."
   ]
  },
  {
   "cell_type": "code",
   "execution_count": null,
   "id": "4e58056a",
   "metadata": {},
   "outputs": [],
   "source": []
  }
 ],
 "metadata": {
  "kernelspec": {
   "display_name": "Python 3 (ipykernel)",
   "language": "python",
   "name": "python3"
  },
  "language_info": {
   "codemirror_mode": {
    "name": "ipython",
    "version": 3
   },
   "file_extension": ".py",
   "mimetype": "text/x-python",
   "name": "python",
   "nbconvert_exporter": "python",
   "pygments_lexer": "ipython3",
   "version": "3.9.12"
  }
 },
 "nbformat": 4,
 "nbformat_minor": 5
}
